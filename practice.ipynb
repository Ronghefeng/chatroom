{
 "cells": [
  {
   "cell_type": "code",
   "execution_count": null,
   "metadata": {},
   "outputs": [],
   "source": []
  },
  {
   "cell_type": "code",
   "execution_count": 22,
   "metadata": {},
   "outputs": [
    {
     "name": "stdout",
     "output_type": "stream",
     "text": [
      "测试双下划线方法\n"
     ]
    }
   ],
   "source": [
    "class Person:\n",
    "\n",
    "    __gender = 0 # 双下划线无法直接在类外部访问，隐藏调用名称：_Person__gender\n",
    "    _name = \"amy\" # 以单个下划线开头的变量或方法仅供内部使用，该约定在PEP 8中有定义\n",
    "    age_ = 0 # 单个末尾下划线（后缀）是一个约定，用来避免与Python关键字产生命名冲突, PEP 8解释了这个约定\n",
    "\n",
    "    def __init__(self, gender):\n",
    "        self.input_gender = gender   \n",
    "\n",
    "    @property\n",
    "    def gender(self):\n",
    "        if not self.__gender:\n",
    "            self.__gender = self.input_gender\n",
    "        return self.__gender\n",
    "\n",
    "    @gender.setter\n",
    "    def gender(self, gender):\n",
    "        self.__gender = gender\n",
    "    \n",
    "    def __test(self):\n",
    "        print(\"测试双下划线方法\")\n",
    "\n",
    "bob = Person(1)\n",
    "# bob.gender = 20 # call @setter \n",
    "# bob.gender # call @property\n",
    "# dir(bob) # get attributes from bob\n",
    "# bob._Person__test()"
   ]
  }
 ],
 "metadata": {
  "interpreter": {
   "hash": "22646502b54025db96249baf5af86e3b22210225159efc462f9bf406dac86bc9"
  },
  "kernelspec": {
   "display_name": "Python 3.8.7 ('.venv': venv)",
   "language": "python",
   "name": "python3"
  },
  "language_info": {
   "codemirror_mode": {
    "name": "ipython",
    "version": 3
   },
   "file_extension": ".py",
   "mimetype": "text/x-python",
   "name": "python",
   "nbconvert_exporter": "python",
   "pygments_lexer": "ipython3",
   "version": "3.8.7"
  },
  "orig_nbformat": 4
 },
 "nbformat": 4,
 "nbformat_minor": 2
}
